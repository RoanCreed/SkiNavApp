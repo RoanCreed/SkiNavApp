{
 "cells": [
  {
   "cell_type": "code",
   "execution_count": 1,
   "metadata": {},
   "outputs": [],
   "source": [
    "import json\n",
    "import PathFinder_v2"
   ]
  },
  {
   "cell_type": "code",
   "execution_count": 2,
   "metadata": {},
   "outputs": [],
   "source": [
    "file = open(\"NodesGraph.json\")\n",
    "NodesGraph = json.load(file)\n",
    "\n",
    "file = open(\"RunsLiftsGraph.json\")\n",
    "RunsLiftsGraph = json.load(file)"
   ]
  },
  {
   "cell_type": "code",
   "execution_count": 3,
   "metadata": {},
   "outputs": [
    {
     "data": {
      "text/plain": [
       "['f4946711-6818-4375-96ef-e487b025c61c',\n",
       " 'c9f9c391-af4f-46ba-9038-049249b02300',\n",
       " '3cc7911c-602b-48ac-8885-ffa5191a2fdb',\n",
       " '09f25c82-fbed-4e2d-b03e-7d187333708e',\n",
       " '56919131-300e-468e-a394-96c2e77a15a1',\n",
       " '2d650356-1491-4071-b456-f208db363bfb']"
      ]
     },
     "execution_count": 3,
     "metadata": {},
     "output_type": "execute_result"
    }
   ],
   "source": [
    "['f4946711-6818-4375-96ef-e487b025c61c', 'c9f9c391-af4f-46ba-9038-049249b02300', '3cc7911c-602b-48ac-8885-ffa5191a2fdb', '09f25c82-fbed-4e2d-b03e-7d187333708e', '56919131-300e-468e-a394-96c2e77a15a1', '2d650356-1491-4071-b456-f208db363bfb']"
   ]
  },
  {
   "cell_type": "code",
   "execution_count": 8,
   "metadata": {},
   "outputs": [
    {
     "data": {
      "text/plain": [
       "{'e665438f-226d-41b2-b94b-124a2e3e6462': {'duration': 223.57982463790765,\n",
       "  'difficulty': 'intermediate',\n",
       "  'distance_prop': 0.18751250202678718},\n",
       " '2d650356-1491-4071-b456-f208db363bfb': {'duration': 204.52849667950392,\n",
       "  'difficulty': 'intermediate',\n",
       "  'distance_prop': 0.8092218194914373}}"
      ]
     },
     "execution_count": 8,
     "metadata": {},
     "output_type": "execute_result"
    }
   ],
   "source": [
    "NodesGraph.get('56919131-300e-468e-a394-96c2e77a15a1')"
   ]
  },
  {
   "cell_type": "code",
   "execution_count": 53,
   "metadata": {},
   "outputs": [],
   "source": [
    "#startingPointNode = 'K'\n",
    "#startingPointNode = 'f4946711-6818-4375-96ef-e487b025c61c' # lac blanc lift\n",
    "startingPointNode = '2bda5768-f82a-404f-a1e1-2ccde0832c9a' # funitel pecelt start\n",
    "\n",
    "#runsInput = ['Beranger','Christine','Croissant']\n",
    "#runsInput = ['0602c22d0ee93ab4320c45ce4d9d3cea5b49f867', 'f9214995594b42205bf550a2ea2433ae66a4dbd0', 'a0bb99c174db2bf009db1d1dbf8b918fe0a16b4a']\n",
    "#runsInput = ['a0bb99c174db2bf009db1d1dbf8b918fe0a16b4a'] # croissant\n",
    "runsInput = ['327610f1acb523e9c5c26e69b849fb180f9939b7', 'c7ca163eb881f3d186a5467f6f5be8a102a4f1d5'] # lac blanc and beranger\n",
    "\n",
    "weights = {\n",
    "        \"lift\": 1.4,\n",
    "        \"novice\": 1,\n",
    "        \"easy\": 1.2,\n",
    "        \"intermediate\": 1.4,\n",
    "        \"advanced\": 1.6\n",
    "    }\n",
    "\n",
    "defaultRuns = {\n",
    "    'Beranger': {'nodes': ['A', 'F', 'D', 'G', 'I', 'R'], 'totalRunLength': 24},\n",
    "    'Lac Blanc': {'nodes': ['A', 'B', 'C', 'D'], 'totalRunLength': 13},\n",
    "    'Tete Ronde': {'nodes': ['A', 'E', 'W', 'S'], 'totalRunLength': 24},\n",
    "    'Vires': {'nodes': ['B', 'L'], 'totalRunLength': 7},\n",
    "    'Croissant': {'nodes': ['L', 'M', 'N'], 'totalRunLength': 13},\n",
    "    'Corniche': {'nodes': ['N', 'J'], 'totalRunLength': 5},\n",
    "    'Boulevard Lauzes': {'nodes': ['D', 'H'], 'totalRunLength': 7},\n",
    "    'Trolles': {'nodes': ['P', 'G'], 'totalRunLength': 2},\n",
    "    'Ardoises': {'nodes': ['G', 'H'], 'totalRunLength': 3},\n",
    "    'Adrien Theaux': {'nodes': ['O', 'P', 'Q'], 'totalRunLength': 3},\n",
    "    'BlackOQ': {'nodes': ['O', 'Q'], 'totalRunLength': 9},\n",
    "    'Roc': {'nodes': ['R', 'J', 'K'], 'totalRunLength': 4},\n",
    "    'Dalles': {'nodes': ['H', 'S', 'T', 'U', 'V'], 'totalRunLength': 11},\n",
    "    'Christine': {'nodes': ['W', 'X'], 'totalRunLength': 17},\n",
    "    '2 Combes': {'nodes': ['S', 'X'], 'totalRunLength': 6},\n",
    "    'Combes de Thorens': {'nodes': ['X', 'Y', 'Z', 'V', 'K'], 'totalRunLength': 12},\n",
    "    'RedLC': {'nodes': ['L', 'C'], 'totalRunLength': 2},\n",
    "    'RedEF': {'nodes': ['E', 'F'], 'totalRunLength': 6},\n",
    "    'BlueTR': {'nodes': ['T', 'R'], 'totalRunLength': 4},\n",
    "    'GreenUJ': {'nodes': ['U', 'J'], 'totalRunLength': 4}\n",
    "}"
   ]
  },
  {
   "cell_type": "code",
   "execution_count": 22,
   "metadata": {},
   "outputs": [
    {
     "data": {
      "text/plain": [
       "[['c34be593-a9bc-46b0-9b62-ee9e71af9243']]"
      ]
     },
     "execution_count": 22,
     "metadata": {},
     "output_type": "execute_result"
    }
   ],
   "source": [
    "# with self made test cases\n",
    "\n",
    "def GetSelectedSkiRuns(runsInput, defaultRuns):  #Loops through list of selected runs and takes their information from the dictionary\n",
    "    selectedDefaultSkiRuns = []\n",
    "    for runName in runsInput:\n",
    "        #print(runName)\n",
    "        if runName in defaultRuns:\n",
    "            selectedDefaultSkiRuns.append({runName: defaultRuns[runName]})\n",
    "            print({runName: defaultRuns[runName]})\n",
    "\n",
    "    return selectedDefaultSkiRuns\n",
    "\n",
    "\n",
    "def GetStartEndPairs(selectedDefaultSkiRuns):\n",
    "    startEndPairsList = []\n",
    "    for run in selectedDefaultSkiRuns:  #loop each run inside the selected runs list\n",
    "        runName = next(iter(run))   #Takes the first key in the dictionary and asigns it to key 'runName' ('Croissant')\n",
    "        runDict = run[runName]      #Uses the run name to extract the internal dictionary for that run (nodes and length)\n",
    "\n",
    "        nodesList = list(runDict['nodes'])    #Get nodes from each inner dictionary in each run list entry\n",
    "\n",
    "        startNode = nodesList[0]\n",
    "        endNode = nodesList[-1]\n",
    "        startEndPairs = [startNode, endNode]\n",
    "\n",
    "        #print(startEndPairs)\n",
    "        startEndPairsList.append(startEndPairs)\n",
    "        \n",
    "    return startEndPairsList\n",
    "\n",
    "def AppendStartNodeToPermutations(permutations, startingNode):\n",
    "    AppendedPermutationsList = []\n",
    "    for permutation in permutations:\n",
    "        sumPerms = sum(permutation, [])\n",
    "        sumPerms.insert(0,startingNode)\n",
    "        AppendedPermutationsList.append(sumPerms)\n",
    "\n",
    "    return AppendedPermutationsList\n",
    "\n",
    "selectedDefaultSkiRuns = GetSelectedSkiRuns(runsInput, defaultRuns)\n",
    "    #print(\"selected ski runs: \", selectedDefaultSkiRuns)\n",
    "\n",
    "selectedDefaultSkiRunsStartEndPairs = GetStartEndPairs(selectedDefaultSkiRuns)\n",
    "    #print(\"Selected ski run pairs:\",selectedDefaultSkiRunsStartEndPairs)\n",
    "\n",
    "selectedDefaultSkiRunsPermutations = PathFinder_v2.GetAllPermutations(selectedDefaultSkiRunsStartEndPairs)\n",
    "    #print(selectedDefaultSkiRunsPermutations)\n",
    "\n",
    "appendedStartNodeToEachPermutation = AppendStartNodeToPermutations(selectedDefaultSkiRunsPermutations, startingPointNode)\n",
    "appendedStartNodeToEachPermutation"
   ]
  },
  {
   "cell_type": "code",
   "execution_count": 47,
   "metadata": {},
   "outputs": [],
   "source": [
    "def GetStartEndPairs(runsInput, RunsLiftsGraph):\n",
    "    startEndPairsList = []\n",
    "    for runID in runsInput:\n",
    "        if runID in RunsLiftsGraph:\n",
    "            startNode = RunsLiftsGraph.get(runID).get(\"point_ids\")[0]\n",
    "            endNode = RunsLiftsGraph.get(runID).get(\"point_ids\")[-1]\n",
    "            startEndPairs = [startNode, endNode]\n",
    "            startEndPairsList.append(startEndPairs)\n",
    "\n",
    "    return startEndPairsList\n",
    "\n",
    "\n",
    "def AppendStartNodeToPermutations(permutations, startingNode):\n",
    "    AppendedPermutationsList = []\n",
    "    for permutation in permutations:\n",
    "        sumPerms = sum(permutation, [])\n",
    "        sumPerms.insert(0,startingNode)\n",
    "        AppendedPermutationsList.append(sumPerms)\n",
    "\n",
    "    return AppendedPermutationsList"
   ]
  },
  {
   "cell_type": "code",
   "execution_count": 54,
   "metadata": {},
   "outputs": [
    {
     "data": {
      "text/plain": [
       "[['2bda5768-f82a-404f-a1e1-2ccde0832c9a',\n",
       "  '210ad409-c8a3-48a6-ba61-8987cbc20538',\n",
       "  '8f1be7bb-707c-4d2f-8fb1-dcb0748e7bfe',\n",
       "  '4488e85d-5b85-4291-ab5a-ed109b3e1b8e',\n",
       "  '657dc158-2d33-4e51-bec5-1a735986929f'],\n",
       " ['2bda5768-f82a-404f-a1e1-2ccde0832c9a',\n",
       "  '4488e85d-5b85-4291-ab5a-ed109b3e1b8e',\n",
       "  '657dc158-2d33-4e51-bec5-1a735986929f',\n",
       "  '210ad409-c8a3-48a6-ba61-8987cbc20538',\n",
       "  '8f1be7bb-707c-4d2f-8fb1-dcb0748e7bfe']]"
      ]
     },
     "execution_count": 54,
     "metadata": {},
     "output_type": "execute_result"
    }
   ],
   "source": [
    "selectedDefaultSkiRunsStartEndPairs = GetStartEndPairs(runsInput, RunsLiftsGraph)\n",
    "\n",
    "selectedDefaultSkiRunsPermutations = PathFinder_v2.GetAllPermutations(selectedDefaultSkiRunsStartEndPairs)\n",
    "\n",
    "appendedStartNodeToEachPermutation = AppendStartNodeToPermutations(selectedDefaultSkiRunsPermutations, startingPointNode)\n",
    "appendedStartNodeToEachPermutation"
   ]
  },
  {
   "cell_type": "code",
   "execution_count": null,
   "metadata": {},
   "outputs": [],
   "source": [
    "EndToStartPairs = []\n",
    "shortestPathList = []\n",
    "shortestDisPathForEachPermDict = {}\n",
    "shortestPathListForEachPermList = []\n",
    "\n",
    "\n",
    "for perm in appendedStartNodeToEachPermutation:\n",
    "    totalDistance = 0\n",
    "    totalPath = []\n",
    "                                            #starting value of seq   |   length of list   |   increment\n",
    "    for i in range(0, len(perm), 2):        #range(0,                |        len(perm)   |     , 2)\n",
    "            \n",
    "            \n",
    "            \n",
    "        if i + 1 < len(perm):\n",
    "            pair = (perm[i], perm[i + 1])\n",
    "            EndToStartPairs.append(pair)\n",
    "\n",
    "            print(\"-----------------------Pair: \" ,pair)\n",
    "                \n",
    "            #Do Astar from here\n",
    "            shortestPathForCurrentPermutation = PathFinder_v2.AStar(NodesGraph, perm[i], perm[i + 1], weights)\n",
    "            #print(\"Shorted path for current permutation:\" , shortestPathForCurrentPermutation)\n",
    "\n",
    "            if shortestPathForCurrentPermutation is not None:\n",
    "                distance = PathFinder_v2.CalculateTotalDistance(shortestPathForCurrentPermutation, NodesGraph, weights) #Calculates path distance for current pair in permutation\n",
    "\n",
    "                shortestDistancePathForCurrentPermutationDict = {'distance': distance, 'path': shortestPathForCurrentPermutation}\n",
    "                shortestPathList.append(shortestDistancePathForCurrentPermutationDict)\n",
    "\n",
    "\n",
    "                totalPath.append(shortestPathForCurrentPermutation)    #Total current path to each pair in the permutation  \n",
    "                totalDistance += distance\n",
    "                    \n",
    "                \n",
    "            else:\n",
    "                print(\"There is no path\")\n",
    "\n",
    "            shortestDisPathForEachPermDict = {'distance': totalDistance, 'path': totalPath}\n",
    "            shortestPathListForEachPermList.append(shortestDisPathForEachPermDict)\n",
    "\n",
    "        else:\n",
    "            #Add the last node after the Astar result TODO\n",
    "            EndToStartPairs.append(perm[i]) #only adds one node (maybe insert this as a seperate var?)  \n",
    "\n",
    "            \n",
    "    print(\"Total Distance: \", totalDistance, \"| Total Path: \", totalPath)\n",
    "    \n",
    "    for key, value in shortestDisPathForEachPermDict.items():\n",
    "        print(key, \":\", value)\n",
    "\n",
    "\n",
    "\n",
    "minDistance = float('inf')\n",
    "minPath = None\n",
    "\n",
    "# Iterate through each dictionary in the list\n",
    "for shortestDisPathForEachPermDict in shortestPathListForEachPermList:\n",
    "\n",
    "    distance = shortestDisPathForEachPermDict['distance']\n",
    "    path = shortestDisPathForEachPermDict['path']\n",
    "\n",
    "    # Compare distance with the current minimum distance\n",
    "    if distance < minDistance:\n",
    "        minDistance = distance \n",
    "        minPath = path\n",
    "print(\"--------------------------------------------------------------------\")\n",
    "print(\"Smallest distance:\", minDistance)\n",
    "print(\"Corresponding path:\", minPath)\n",
    "print(\"--------------------------------------------------------------------\")"
   ]
  },
  {
   "cell_type": "code",
   "execution_count": 56,
   "metadata": {},
   "outputs": [
    {
     "data": {
      "text/plain": [
       "{'4452b0b9-fccf-4e26-be9f-5d34544f6e6a': {'duration': 371.564196293215,\n",
       "  'difficulty': 'easy',\n",
       "  'distance_prop': 0.12135377971763323},\n",
       " 'b346e7a2-3a3c-4114-b43e-63820e80097d': {'duration': 210.00966162612798,\n",
       "  'difficulty': 'intermediate',\n",
       "  'distance_prop': 0.2900760446572973}}"
      ]
     },
     "execution_count": 56,
     "metadata": {},
     "output_type": "execute_result"
    }
   ],
   "source": [
    "NodesGraph.get('210ad409-c8a3-48a6-ba61-8987cbc20538')"
   ]
  },
  {
   "cell_type": "code",
   "execution_count": 38,
   "metadata": {},
   "outputs": [
    {
     "data": {
      "text/plain": [
       "['2bda5768-f82a-404f-a1e1-2ccde0832c9a',\n",
       " '0fab967d-21ea-4ba5-ad5e-4987d82fd6cc',\n",
       " 'cadb5cc0-e9d6-491d-8803-576c632e8427',\n",
       " '210ad409-c8a3-48a6-ba61-8987cbc20538',\n",
       " 'b346e7a2-3a3c-4114-b43e-63820e80097d',\n",
       " '09f25c82-fbed-4e2d-b03e-7d187333708e',\n",
       " '56919131-300e-468e-a394-96c2e77a15a1',\n",
       " 'e665438f-226d-41b2-b94b-124a2e3e6462',\n",
       " 'c13ae4fc-b5f9-4b17-aa96-fe67a061c195',\n",
       " '4e690d61-4d39-4d9c-90d4-89c98a73910e']"
      ]
     },
     "execution_count": 38,
     "metadata": {},
     "output_type": "execute_result"
    }
   ],
   "source": [
    "# funitel peclet lift and trolles run \n",
    "['2bda5768-f82a-404f-a1e1-2ccde0832c9a', '0fab967d-21ea-4ba5-ad5e-4987d82fd6cc', 'cadb5cc0-e9d6-491d-8803-576c632e8427', '210ad409-c8a3-48a6-ba61-8987cbc20538', 'b346e7a2-3a3c-4114-b43e-63820e80097d', '09f25c82-fbed-4e2d-b03e-7d187333708e', '56919131-300e-468e-a394-96c2e77a15a1', 'e665438f-226d-41b2-b94b-124a2e3e6462', 'c13ae4fc-b5f9-4b17-aa96-fe67a061c195', '4e690d61-4d39-4d9c-90d4-89c98a73910e']"
   ]
  },
  {
   "cell_type": "code",
   "execution_count": 39,
   "metadata": {},
   "outputs": [
    {
     "data": {
      "text/plain": [
       "['f4946711-6818-4375-96ef-e487b025c61c',\n",
       " 'c9f9c391-af4f-46ba-9038-049249b02300',\n",
       " '3cc7911c-602b-48ac-8885-ffa5191a2fdb',\n",
       " '09f25c82-fbed-4e2d-b03e-7d187333708e',\n",
       " '56919131-300e-468e-a394-96c2e77a15a1',\n",
       " '2d650356-1491-4071-b456-f208db363bfb']"
      ]
     },
     "execution_count": 39,
     "metadata": {},
     "output_type": "execute_result"
    }
   ],
   "source": [
    "# lac blanc lift and croissant run\n",
    "['f4946711-6818-4375-96ef-e487b025c61c', 'c9f9c391-af4f-46ba-9038-049249b02300', '3cc7911c-602b-48ac-8885-ffa5191a2fdb', '09f25c82-fbed-4e2d-b03e-7d187333708e', '56919131-300e-468e-a394-96c2e77a15a1', '2d650356-1491-4071-b456-f208db363bfb']"
   ]
  }
 ],
 "metadata": {
  "kernelspec": {
   "display_name": "SkiNavApp",
   "language": "python",
   "name": "skinavapp"
  },
  "language_info": {
   "codemirror_mode": {
    "name": "ipython",
    "version": 3
   },
   "file_extension": ".py",
   "mimetype": "text/x-python",
   "name": "python",
   "nbconvert_exporter": "python",
   "pygments_lexer": "ipython3",
   "version": "3.10.5"
  }
 },
 "nbformat": 4,
 "nbformat_minor": 2
}
